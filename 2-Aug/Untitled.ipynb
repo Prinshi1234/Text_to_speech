{
 "cells": [
  {
   "cell_type": "code",
   "execution_count": 7,
   "id": "f4899140-2510-4f19-8877-b75bd6d431b9",
   "metadata": {},
   "outputs": [],
   "source": [
    "from nltk import PorterStemmer\n",
    "s = PorterStemmer()"
   ]
  },
  {
   "cell_type": "code",
   "execution_count": 8,
   "id": "f6de7a30-74f2-4576-9489-9e885558247d",
   "metadata": {},
   "outputs": [],
   "source": [
    "words = ['eat','eating','eats','ate','happy','meeting','rafting']"
   ]
  },
  {
   "cell_type": "code",
   "execution_count": 10,
   "id": "0808d388-2727-43d0-af51-c744dc19ea83",
   "metadata": {},
   "outputs": [
    {
     "name": "stdout",
     "output_type": "stream",
     "text": [
      "WORDS--ROOTS\n",
      "eat -- eat\n",
      "eating -- eat\n",
      "eats -- eat\n",
      "ate -- ate\n",
      "happy -- happi\n",
      "meeting -- meet\n",
      "rafting -- raft\n"
     ]
    }
   ],
   "source": [
    "print('WORDS--ROOTS')\n",
    "for i in words:\n",
    "    print(i, \"--\",s.stem(i))"
   ]
  },
  {
   "cell_type": "code",
   "execution_count": 11,
   "id": "ee1a2827-1cdb-46fe-bc37-b438db9192c2",
   "metadata": {},
   "outputs": [],
   "source": [
    "from nltk import WordNetLemmatizer\n",
    "from nltk.corpus import wordnet "
   ]
  },
  {
   "cell_type": "code",
   "execution_count": 14,
   "id": "f5f3d0d5-c39d-4794-8490-1b514ef1e2ac",
   "metadata": {},
   "outputs": [
    {
     "data": {
      "text/plain": [
       "['eat', 'eating', 'eats', 'ate', 'happy', 'meeting', 'rafting']"
      ]
     },
     "execution_count": 14,
     "metadata": {},
     "output_type": "execute_result"
    }
   ],
   "source": [
    "l = WordNetLemmatizer()\n",
    "words"
   ]
  },
  {
   "cell_type": "code",
   "execution_count": 16,
   "id": "c12009cb-a1ea-4594-b86f-4b3984273f99",
   "metadata": {},
   "outputs": [
    {
     "data": {
      "text/plain": [
       "['eat', 'eat', 'eat', 'eat', 'happy', 'meet', 'raft']"
      ]
     },
     "execution_count": 16,
     "metadata": {},
     "output_type": "execute_result"
    }
   ],
   "source": [
    "[l.lemmatize(w, pos= wordnet.VERB) for w in words]"
   ]
  },
  {
   "cell_type": "code",
   "execution_count": null,
   "id": "e0a9e399-4e5a-4e79-b40e-42a13feb7815",
   "metadata": {},
   "outputs": [],
   "source": []
  }
 ],
 "metadata": {
  "kernelspec": {
   "display_name": "Python 3 (ipykernel)",
   "language": "python",
   "name": "python3"
  },
  "language_info": {
   "codemirror_mode": {
    "name": "ipython",
    "version": 3
   },
   "file_extension": ".py",
   "mimetype": "text/x-python",
   "name": "python",
   "nbconvert_exporter": "python",
   "pygments_lexer": "ipython3",
   "version": "3.11.9"
  }
 },
 "nbformat": 4,
 "nbformat_minor": 5
}
