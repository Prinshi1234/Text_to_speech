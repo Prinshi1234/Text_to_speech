{
 "cells": [
  {
   "cell_type": "code",
   "execution_count": 83,
   "id": "2d420907-403c-4823-995b-74e7ee1aa335",
   "metadata": {},
   "outputs": [
    {
     "name": "stderr",
     "output_type": "stream",
     "text": [
      "[nltk_data] Downloading package stopwords to\n",
      "[nltk_data]     C:\\Users\\Prinshi\\AppData\\Roaming\\nltk_data...\n",
      "[nltk_data]   Package stopwords is already up-to-date!\n",
      "[nltk_data] Downloading package averaged_perceptron_tagger to\n",
      "[nltk_data]     C:\\Users\\Prinshi\\AppData\\Roaming\\nltk_data...\n",
      "[nltk_data]   Package averaged_perceptron_tagger is already up-to-\n",
      "[nltk_data]       date!\n",
      "[nltk_data] Downloading package punkt to\n",
      "[nltk_data]     C:\\Users\\Prinshi\\AppData\\Roaming\\nltk_data...\n",
      "[nltk_data]   Package punkt is already up-to-date!\n"
     ]
    },
    {
     "data": {
      "text/plain": [
       "True"
      ]
     },
     "execution_count": 83,
     "metadata": {},
     "output_type": "execute_result"
    }
   ],
   "source": [
    "import nltk\n",
    "from nltk.corpus import stopwords\n",
    "from nltk.tokenize import word_tokenize,sent_tokenize\n",
    "nltk.download('stopwords')\n",
    "nltk.download('averaged_perceptron_tagger')\n",
    "nltk.download('punkt')"
   ]
  },
  {
   "cell_type": "code",
   "execution_count": 84,
   "id": "c03258e5-2a59-4521-94ec-fb7b0df5d84c",
   "metadata": {},
   "outputs": [],
   "source": [
    "stop_w =set(stopwords.words('english'))"
   ]
  },
  {
   "cell_type": "code",
   "execution_count": 85,
   "id": "07275e2e-9333-4019-aaaf-88bfc314e771",
   "metadata": {},
   "outputs": [],
   "source": [
    "text =\"Pollution means contamination of the environment by the pollutants generated mainly by human activities. Pollution in its several forms is responsible for taking millions of lives annually. Different forms of pollution are sound pollution, air pollution, light pollution, plastic pollution, soil pollution, thermal pollution, and nuclear pollution.\""
   ]
  },
  {
   "cell_type": "code",
   "execution_count": 86,
   "id": "49df74cf-3a65-4c55-bf0c-c1aea83afb08",
   "metadata": {},
   "outputs": [],
   "source": [
    "token  = sent_tokenize(text)\n",
    "for i in token:\n",
    "    wL = nltk.word_tokenize(i)\n",
    "    wL = [w for w in wL if not w in stop_w]\n",
    "    tagg = nltk.pos_tag(wL)\n",
    "    "
   ]
  },
  {
   "cell_type": "code",
   "execution_count": 87,
   "id": "3554d5f3-64b3-46d7-837f-6c238cd9a60a",
   "metadata": {},
   "outputs": [
    {
     "data": {
      "text/plain": [
       "[('Different', 'NN'),\n",
       " ('forms', 'NNS'),\n",
       " ('pollution', 'VBP'),\n",
       " ('sound', 'JJ'),\n",
       " ('pollution', 'NN'),\n",
       " (',', ','),\n",
       " ('air', 'NN'),\n",
       " ('pollution', 'NN'),\n",
       " (',', ','),\n",
       " ('light', 'JJ'),\n",
       " ('pollution', 'NN'),\n",
       " (',', ','),\n",
       " ('plastic', 'JJ'),\n",
       " ('pollution', 'NN'),\n",
       " (',', ','),\n",
       " ('soil', 'NN'),\n",
       " ('pollution', 'NN'),\n",
       " (',', ','),\n",
       " ('thermal', 'JJ'),\n",
       " ('pollution', 'NN'),\n",
       " (',', ','),\n",
       " ('nuclear', 'JJ'),\n",
       " ('pollution', 'NN'),\n",
       " ('.', '.')]"
      ]
     },
     "execution_count": 87,
     "metadata": {},
     "output_type": "execute_result"
    }
   ],
   "source": [
    "tagg"
   ]
  },
  {
   "cell_type": "code",
   "execution_count": 88,
   "id": "4a12ad70-dba3-4cef-adfd-54110d93cebf",
   "metadata": {},
   "outputs": [],
   "source": [
    "from sklearn.feature_extraction.text import CountVectorizer"
   ]
  },
  {
   "cell_type": "code",
   "execution_count": 89,
   "id": "16b9f0dd-0b13-4178-9da5-2ba0aecd5b13",
   "metadata": {},
   "outputs": [],
   "source": [
    "v = CountVectorizer()"
   ]
  },
  {
   "cell_type": "code",
   "execution_count": 90,
   "id": "142ebe4f-d63e-4a25-85d8-78b72ea329e3",
   "metadata": {},
   "outputs": [],
   "source": [
    "text =[\"Pollution means contamination of the environment by the pollutants generated mainly by human activities. Pollution in its several forms is responsible for taking millions of lives annually. \"]\n",
    "x = v.fit_transform(text)"
   ]
  },
  {
   "cell_type": "code",
   "execution_count": 91,
   "id": "37c50b56-b3c3-4f71-950c-d8c4805bb5e3",
   "metadata": {},
   "outputs": [
    {
     "data": {
      "text/plain": [
       "{'pollution': 18,\n",
       " 'means': 14,\n",
       " 'contamination': 3,\n",
       " 'of': 16,\n",
       " 'the': 22,\n",
       " 'environment': 4,\n",
       " 'by': 2,\n",
       " 'pollutants': 17,\n",
       " 'generated': 7,\n",
       " 'mainly': 13,\n",
       " 'human': 8,\n",
       " 'activities': 0,\n",
       " 'in': 9,\n",
       " 'its': 11,\n",
       " 'several': 20,\n",
       " 'forms': 6,\n",
       " 'is': 10,\n",
       " 'responsible': 19,\n",
       " 'for': 5,\n",
       " 'taking': 21,\n",
       " 'millions': 15,\n",
       " 'lives': 12,\n",
       " 'annually': 1}"
      ]
     },
     "execution_count": 91,
     "metadata": {},
     "output_type": "execute_result"
    }
   ],
   "source": [
    "v.vocabulary_"
   ]
  },
  {
   "cell_type": "code",
   "execution_count": 92,
   "id": "09f8da61-79aa-4532-a459-0718c867117e",
   "metadata": {},
   "outputs": [
    {
     "data": {
      "text/plain": [
       "array([[1, 1, 2, 1, 1, 1, 1, 1, 1, 1, 1, 1, 1, 1, 1, 1, 2, 1, 2, 1, 1, 1,\n",
       "        2]], dtype=int64)"
      ]
     },
     "execution_count": 92,
     "metadata": {},
     "output_type": "execute_result"
    }
   ],
   "source": [
    "x.toarray()"
   ]
  },
  {
   "cell_type": "code",
   "execution_count": 93,
   "id": "5035f0a0-c225-496a-bb03-ebf26315f171",
   "metadata": {},
   "outputs": [
    {
     "data": {
      "text/plain": [
       "array([[0.16903085, 0.16903085, 0.3380617 , 0.16903085, 0.16903085,\n",
       "        0.16903085, 0.16903085, 0.16903085, 0.16903085, 0.16903085,\n",
       "        0.16903085, 0.16903085, 0.16903085, 0.16903085, 0.16903085,\n",
       "        0.16903085, 0.3380617 , 0.16903085, 0.3380617 , 0.16903085,\n",
       "        0.16903085, 0.16903085, 0.3380617 ]])"
      ]
     },
     "execution_count": 93,
     "metadata": {},
     "output_type": "execute_result"
    }
   ],
   "source": [
    "from sklearn.feature_extraction.text import TfidfVectorizer\n",
    "tv = TfidfVectorizer()\n",
    "tv.fit_transform(text).toarray()"
   ]
  },
  {
   "cell_type": "code",
   "execution_count": 94,
   "id": "837a76b1-4f28-441c-934f-76243bee948d",
   "metadata": {},
   "outputs": [],
   "source": [
    "from gensim.models import Word2Vec"
   ]
  },
  {
   "cell_type": "code",
   "execution_count": 95,
   "id": "18978315-b0c5-4e1f-a3c9-cec567ef0370",
   "metadata": {},
   "outputs": [],
   "source": [
    "s =[word_tokenize(w.lower())for w in text]\n",
    "s\n",
    "model = Word2Vec()"
   ]
  },
  {
   "cell_type": "code",
   "execution_count": 99,
   "id": "c280c1e1-d897-4352-ba43-68a1a843d02b",
   "metadata": {},
   "outputs": [
    {
     "data": {
      "text/plain": [
       "(1, 60)"
      ]
     },
     "execution_count": 99,
     "metadata": {},
     "output_type": "execute_result"
    }
   ],
   "source": [
    "from gensim.models import Word2Vec\n",
    "\n",
    "# Example sentences\n",
    "s = [[\"this\", \"is\", \"a\", \"sentence\"], [\"another\", \"sentence\"]]\n",
    "\n",
    "# Initialize the model\n",
    "model = Word2Vec(vector_size=100, window=5, min_count=1, workers=4)\n",
    "\n",
    "# Build vocabulary\n",
    "model.build_vocab(s)\n",
    "\n",
    "# Train the model\n",
    "model.train(s, total_examples=model.corpus_count, epochs=10)\n"
   ]
  },
  {
   "cell_type": "code",
   "execution_count": null,
   "id": "7a9cc257-c6c0-423a-a5f9-c3cda0a25e2d",
   "metadata": {},
   "outputs": [],
   "source": []
  },
  {
   "cell_type": "code",
   "execution_count": null,
   "id": "066a631a-17e6-4046-a911-1999bd7be12d",
   "metadata": {},
   "outputs": [],
   "source": []
  }
 ],
 "metadata": {
  "kernelspec": {
   "display_name": "Python 3 (ipykernel)",
   "language": "python",
   "name": "python3"
  },
  "language_info": {
   "codemirror_mode": {
    "name": "ipython",
    "version": 3
   },
   "file_extension": ".py",
   "mimetype": "text/x-python",
   "name": "python",
   "nbconvert_exporter": "python",
   "pygments_lexer": "ipython3",
   "version": "3.11.9"
  }
 },
 "nbformat": 4,
 "nbformat_minor": 5
}
