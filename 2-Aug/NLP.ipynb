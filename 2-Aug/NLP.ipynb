{
 "cells": [
  {
   "cell_type": "code",
   "execution_count": 26,
   "id": "361109fb-5ba9-4d26-b451-3ae1d834ef68",
   "metadata": {},
   "outputs": [],
   "source": [
    "from gtts import gTTS"
   ]
  },
  {
   "cell_type": "code",
   "execution_count": 27,
   "id": "6ff2c9ef-b194-4fbf-80bd-a39c8331b928",
   "metadata": {},
   "outputs": [],
   "source": [
    "a = gTTS(\"MY NAME IS PRINSHI\")\n",
    "a.save('text.mp3')"
   ]
  },
  {
   "cell_type": "code",
   "execution_count": 28,
   "id": "2c038293-9b6e-458a-9086-b12665c9655b",
   "metadata": {},
   "outputs": [],
   "source": [
    "with open('new.txt','r') as file:\n",
    "    b= file.read()\n",
    "    c= gTTS(b, lang='en')\n",
    "    c.save('text1.mp3')"
   ]
  },
  {
   "cell_type": "code",
   "execution_count": 29,
   "id": "94ae69d7-28a3-4c08-9de9-74f1e07ff4da",
   "metadata": {},
   "outputs": [],
   "source": [
    "d= gTTS('प्रदूषण का अर्थ है मुख्य रूप से मानव गतिविधियों द्वारा उत्पन्न प्रदूषकों द्वारा पर्यावरण का संदूषण। प्रदूषण अपने कई रूपों में सालाना लाखों लोगों की जान लेने के लिए जिम्मेदार है। प्रदूषण के विभिन्न रूप ध्वनि प्रदूषण, वायु प्रदूषण, प्रकाश प्रदूषण, प्लास्टिक प्रदूषण, मृदा प्रदूषण, थर्मल प्रदूषण और परमाणु प्रदूषण हैं।',lang='en')\n",
    "d.save('text2.mp3')"
   ]
  },
  {
   "cell_type": "code",
   "execution_count": 30,
   "id": "4c53035e-03fd-4f58-a0be-8320d6c0d236",
   "metadata": {},
   "outputs": [],
   "source": [
    "from nltk import download"
   ]
  },
  {
   "cell_type": "code",
   "execution_count": 31,
   "id": "e6eda27a-737a-4082-8f59-0d0608f64660",
   "metadata": {},
   "outputs": [
    {
     "name": "stderr",
     "output_type": "stream",
     "text": [
      "[nltk_data] Downloading package punkt to\n",
      "[nltk_data]     C:\\Users\\Prinshi\\AppData\\Roaming\\nltk_data...\n",
      "[nltk_data]   Package punkt is already up-to-date!\n"
     ]
    },
    {
     "data": {
      "text/plain": [
       "True"
      ]
     },
     "execution_count": 31,
     "metadata": {},
     "output_type": "execute_result"
    }
   ],
   "source": [
    "download('punkt')"
   ]
  },
  {
   "cell_type": "code",
   "execution_count": 32,
   "id": "651d83cc-efbd-424e-a760-53cd3ea58646",
   "metadata": {},
   "outputs": [],
   "source": [
    "from nltk.tokenize import word_tokenize,sent_tokenize"
   ]
  },
  {
   "cell_type": "code",
   "execution_count": 33,
   "id": "ddf23858-092f-4a60-940f-974e33a2855b",
   "metadata": {},
   "outputs": [],
   "source": [
    "e = 'Pollution means contamination of the environment. by the pollutants generated. mainly by human activities. Pollution in its several forms is responsible for taking millions of lives annually. Different forms of pollution are sound pollution, air pollution, light pollution, plastic pollution, soil pollution, thermal pollution, and nuclear pollution'"
   ]
  },
  {
   "cell_type": "code",
   "execution_count": 34,
   "id": "bf97e29b-82b4-4215-b75d-7236a822d325",
   "metadata": {},
   "outputs": [
    {
     "data": {
      "text/plain": [
       "'Pollution means contamination of the environment. by the pollutants generated. mainly by human activities. Pollution in its several forms is responsible for taking millions of lives annually. Different forms of pollution are sound pollution, air pollution, light pollution, plastic pollution, soil pollution, thermal pollution, and nuclear pollution'"
      ]
     },
     "execution_count": 34,
     "metadata": {},
     "output_type": "execute_result"
    }
   ],
   "source": [
    "e"
   ]
  },
  {
   "cell_type": "code",
   "execution_count": 35,
   "id": "60b0a127-0a9c-49f9-848b-bb3c293a421f",
   "metadata": {},
   "outputs": [
    {
     "data": {
      "text/plain": [
       "['Pollution means contamination of the environment.',\n",
       " 'by the pollutants generated.',\n",
       " 'mainly by human activities.',\n",
       " 'Pollution in its several forms is responsible for taking millions of lives annually.',\n",
       " 'Different forms of pollution are sound pollution, air pollution, light pollution, plastic pollution, soil pollution, thermal pollution, and nuclear pollution']"
      ]
     },
     "execution_count": 35,
     "metadata": {},
     "output_type": "execute_result"
    }
   ],
   "source": [
    " sent_tokenize(e)"
   ]
  },
  {
   "cell_type": "code",
   "execution_count": 36,
   "id": "1af653e4-0e3d-45aa-93a6-41b5cb2902b2",
   "metadata": {},
   "outputs": [
    {
     "data": {
      "text/plain": [
       "['Pollution',\n",
       " 'means',\n",
       " 'contamination',\n",
       " 'of',\n",
       " 'the',\n",
       " 'environment',\n",
       " '.',\n",
       " 'by',\n",
       " 'the',\n",
       " 'pollutants',\n",
       " 'generated',\n",
       " '.',\n",
       " 'mainly',\n",
       " 'by',\n",
       " 'human',\n",
       " 'activities',\n",
       " '.',\n",
       " 'Pollution',\n",
       " 'in',\n",
       " 'its',\n",
       " 'several',\n",
       " 'forms',\n",
       " 'is',\n",
       " 'responsible',\n",
       " 'for',\n",
       " 'taking',\n",
       " 'millions',\n",
       " 'of',\n",
       " 'lives',\n",
       " 'annually',\n",
       " '.',\n",
       " 'Different',\n",
       " 'forms',\n",
       " 'of',\n",
       " 'pollution',\n",
       " 'are',\n",
       " 'sound',\n",
       " 'pollution',\n",
       " ',',\n",
       " 'air',\n",
       " 'pollution',\n",
       " ',',\n",
       " 'light',\n",
       " 'pollution',\n",
       " ',',\n",
       " 'plastic',\n",
       " 'pollution',\n",
       " ',',\n",
       " 'soil',\n",
       " 'pollution',\n",
       " ',',\n",
       " 'thermal',\n",
       " 'pollution',\n",
       " ',',\n",
       " 'and',\n",
       " 'nuclear',\n",
       " 'pollution']"
      ]
     },
     "execution_count": 36,
     "metadata": {},
     "output_type": "execute_result"
    }
   ],
   "source": [
    "word_tokenize(e)"
   ]
  },
  {
   "cell_type": "code",
   "execution_count": 37,
   "id": "2ef35f2b-067b-4e8b-8d4d-c065ebfa8397",
   "metadata": {},
   "outputs": [],
   "source": [
    "import spacy\n",
    "nlp = spacy.load('en_core_web_sm')"
   ]
  },
  {
   "cell_type": "code",
   "execution_count": 38,
   "id": "45fe9c89-aa1b-45c7-92ba-42c52d945de4",
   "metadata": {},
   "outputs": [],
   "source": [
    "f = nlp(e)"
   ]
  },
  {
   "cell_type": "code",
   "execution_count": 40,
   "id": "51c913cf-07c0-4467-a7aa-91abc07379ac",
   "metadata": {},
   "outputs": [],
   "source": [
    "word_tokens = [token.text for token in f]\n",
    "# sent_tokens = [sent.text for token in f]"
   ]
  },
  {
   "cell_type": "code",
   "execution_count": 41,
   "id": "f64bbf91-51f8-438d-8ab3-2034f22c87d9",
   "metadata": {},
   "outputs": [
    {
     "data": {
      "text/plain": [
       "Pollution means contamination of the environment. by the pollutants generated. mainly by human activities. Pollution in its several forms is responsible for taking millions of lives annually. Different forms of pollution are sound pollution, air pollution, light pollution, plastic pollution, soil pollution, thermal pollution, and nuclear pollution"
      ]
     },
     "execution_count": 41,
     "metadata": {},
     "output_type": "execute_result"
    }
   ],
   "source": [
    "f"
   ]
  },
  {
   "cell_type": "code",
   "execution_count": 43,
   "id": "be811a24-ca85-476f-893c-5bc9a3a12268",
   "metadata": {},
   "outputs": [],
   "source": [
    "from nltk.stem import PorterStemmer,SnowballStemmer"
   ]
  },
  {
   "cell_type": "code",
   "execution_count": 56,
   "id": "b53f754d-4134-4438-bd22-a72251fd13d7",
   "metadata": {},
   "outputs": [],
   "source": [
    "word = ['eat','eats','eating','eater', 'is','happy','happily','happiness']"
   ]
  },
  {
   "cell_type": "code",
   "execution_count": 57,
   "id": "8b64ec14-4c14-48e9-82ca-4fddec57cdba",
   "metadata": {},
   "outputs": [],
   "source": [
    "p = PorterStemmer()"
   ]
  },
  {
   "cell_type": "code",
   "execution_count": 58,
   "id": "833f8f94-ffe5-426b-b3ef-5d66488c9dca",
   "metadata": {},
   "outputs": [
    {
     "data": {
      "text/plain": [
       "['eat', 'eat', 'eat', 'eater', 'is', 'happi', 'happili', 'happi']"
      ]
     },
     "execution_count": 58,
     "metadata": {},
     "output_type": "execute_result"
    }
   ],
   "source": [
    "p_stems = [p.stem(w) for w in word]\n",
    "p_stems"
   ]
  },
  {
   "cell_type": "code",
   "execution_count": 59,
   "id": "146af75a-be13-4a04-b1aa-79c623053250",
   "metadata": {},
   "outputs": [],
   "source": [
    "s = SnowballStemmer(language='english')"
   ]
  },
  {
   "cell_type": "code",
   "execution_count": 60,
   "id": "41ab97e7-4534-49b7-bafd-c32d62e94e68",
   "metadata": {},
   "outputs": [
    {
     "data": {
      "text/plain": [
       "['eat', 'eat', 'eat', 'eater', 'is', 'happi', 'happili', 'happi']"
      ]
     },
     "execution_count": 60,
     "metadata": {},
     "output_type": "execute_result"
    }
   ],
   "source": [
    "[s.stem(w) for w in word]"
   ]
  },
  {
   "cell_type": "code",
   "execution_count": 61,
   "id": "07f69fe6-677c-43ab-a720-b63dc6da040f",
   "metadata": {},
   "outputs": [],
   "source": [
    "from nltk.stem import WordNetLemmatizer"
   ]
  },
  {
   "cell_type": "code",
   "execution_count": 62,
   "id": "676015cc-4a0e-4fb3-9e4f-000ef71bdfac",
   "metadata": {},
   "outputs": [
    {
     "data": {
      "text/plain": [
       "['eat', 'eats', 'eating', 'eater', 'is', 'happy', 'happily', 'happiness']"
      ]
     },
     "execution_count": 62,
     "metadata": {},
     "output_type": "execute_result"
    }
   ],
   "source": [
    "word"
   ]
  },
  {
   "cell_type": "code",
   "execution_count": 63,
   "id": "648c5a63-4623-476a-8534-50634230e7e7",
   "metadata": {},
   "outputs": [],
   "source": [
    "l = WordNetLemmatizer()"
   ]
  },
  {
   "cell_type": "code",
   "execution_count": 64,
   "id": "83244b5a-47d9-4404-85e8-791ec4df77ef",
   "metadata": {},
   "outputs": [],
   "source": [
    "from nltk.corpus import wordnet"
   ]
  },
  {
   "cell_type": "code",
   "execution_count": 65,
   "id": "67d5e9f9-909a-4f31-b628-ae31be93e2c3",
   "metadata": {},
   "outputs": [
    {
     "name": "stderr",
     "output_type": "stream",
     "text": [
      "[nltk_data] Downloading package wordnet to\n",
      "[nltk_data]     C:\\Users\\Prinshi\\AppData\\Roaming\\nltk_data...\n"
     ]
    },
    {
     "data": {
      "text/plain": [
       "True"
      ]
     },
     "execution_count": 65,
     "metadata": {},
     "output_type": "execute_result"
    }
   ],
   "source": [
    "download('wordnet')"
   ]
  },
  {
   "cell_type": "code",
   "execution_count": 66,
   "id": "0b873d33-3e56-4cbc-85a4-9a235f22ff9f",
   "metadata": {},
   "outputs": [
    {
     "name": "stderr",
     "output_type": "stream",
     "text": [
      "[nltk_data] Downloading package omw to\n",
      "[nltk_data]     C:\\Users\\Prinshi\\AppData\\Roaming\\nltk_data...\n"
     ]
    },
    {
     "data": {
      "text/plain": [
       "True"
      ]
     },
     "execution_count": 66,
     "metadata": {},
     "output_type": "execute_result"
    }
   ],
   "source": [
    "download('omw')"
   ]
  },
  {
   "cell_type": "code",
   "execution_count": 70,
   "id": "d200fded-d663-4aa5-8b23-1ae748b01d4f",
   "metadata": {},
   "outputs": [],
   "source": [
    "le = [l.lemmatize(w, pos = wordnet.NOUN) for w in word]"
   ]
  },
  {
   "cell_type": "code",
   "execution_count": 71,
   "id": "df29949a-aef4-4cde-9034-4c70f127d30c",
   "metadata": {},
   "outputs": [
    {
     "data": {
      "text/plain": [
       "['eat', 'eats', 'eating', 'eater', 'is', 'happy', 'happily', 'happiness']"
      ]
     },
     "execution_count": 71,
     "metadata": {},
     "output_type": "execute_result"
    }
   ],
   "source": [
    "le"
   ]
  },
  {
   "cell_type": "code",
   "execution_count": null,
   "id": "06ebdd7a-ee29-4c4c-bc1b-02d238af5902",
   "metadata": {},
   "outputs": [],
   "source": []
  }
 ],
 "metadata": {
  "kernelspec": {
   "display_name": "Python 3 (ipykernel)",
   "language": "python",
   "name": "python3"
  },
  "language_info": {
   "codemirror_mode": {
    "name": "ipython",
    "version": 3
   },
   "file_extension": ".py",
   "mimetype": "text/x-python",
   "name": "python",
   "nbconvert_exporter": "python",
   "pygments_lexer": "ipython3",
   "version": "3.11.9"
  }
 },
 "nbformat": 4,
 "nbformat_minor": 5
}
